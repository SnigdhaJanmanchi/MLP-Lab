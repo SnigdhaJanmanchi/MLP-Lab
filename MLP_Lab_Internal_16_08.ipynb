{
  "nbformat": 4,
  "nbformat_minor": 0,
  "metadata": {
    "colab": {
      "name": "MLP_Lab_Internal_16_08",
      "provenance": []
    },
    "kernelspec": {
      "name": "python3",
      "display_name": "Python 3"
    },
    "language_info": {
      "name": "python"
    }
  },
  "cells": [
    {
      "cell_type": "markdown",
      "metadata": {
        "id": "3p7lifdAGFge"
      },
      "source": [
        "Program to demonstrate basic datatypes"
      ]
    },
    {
      "cell_type": "code",
      "metadata": {
        "id": "efGa-Z90FCaH",
        "colab": {
          "base_uri": "https://localhost:8080/"
        },
        "outputId": "312b68e0-f456-47ed-8a5a-927a51726284"
      },
      "source": [
        "print(\"Integer\")\n",
        "x = 9     \n",
        "print(x)\n",
        "print(type(x))\n",
        "print(\"Float\")\n",
        "x = 22.33333\n",
        "print(x)\n",
        "print(type(x))\n",
        "print(\"Complex\")\n",
        "x = 2+2j     \n",
        "print(x)\n",
        "print(type(x))\n",
        "print(\"String\") \n",
        "x = \"Artificial Intelligence\"    \n",
        "print(x)\n",
        "print(type(x))\n",
        "print(\"List\")\n",
        "x=['Snigdha','Ashritha','Sravya', 'Priyanka']  \n",
        "print(x)\n",
        "print(type(x))\n",
        "print(\"Tuples\")\n",
        "x=('Maths','Physics','Biology', 'English')   \n",
        "print(x)\n",
        "print(type(x))\n",
        "print(\"Dictionary\")\n",
        "x={1:'DBMS',2:'EP',3:'DAA', 4:'ES', 5:'COA'}  \n",
        "print(x)\n",
        "print(type(x))"
      ],
      "execution_count": null,
      "outputs": [
        {
          "output_type": "stream",
          "text": [
            "Integer\n",
            "9\n",
            "<class 'int'>\n",
            "Float\n",
            "22.33333\n",
            "<class 'float'>\n",
            "Complex\n",
            "(2+2j)\n",
            "<class 'complex'>\n",
            "String\n",
            "Artificial Intelligence\n",
            "<class 'str'>\n",
            "List\n",
            "['Snigdha', 'Ashritha', 'Sravya', 'Priyanka']\n",
            "<class 'list'>\n",
            "Tuples\n",
            "('Maths', 'Physics', 'Biology', 'English')\n",
            "<class 'tuple'>\n",
            "Dictionary\n",
            "{1: 'DBMS', 2: 'EP', 3: 'DAA', 4: 'ES', 5: 'COA'}\n",
            "<class 'dict'>\n"
          ],
          "name": "stdout"
        }
      ]
    },
    {
      "cell_type": "markdown",
      "metadata": {
        "id": "U-klEku_MPPZ"
      },
      "source": [
        "Program to demonstrate operators and expressions"
      ]
    },
    {
      "cell_type": "code",
      "metadata": {
        "id": "1i49TyQdMP34",
        "colab": {
          "base_uri": "https://localhost:8080/"
        },
        "outputId": "b80da4cf-b414-4ca9-b49a-1a4e86e2bb6e"
      },
      "source": [
        "print(\"Arithmetic Operators\")\n",
        "a = int(input(\"Enter the value of a\"))\n",
        "b = int(input(\"Enter the value of b\"))\n",
        "add = a + b \n",
        "sub = a - b  \n",
        "mul = a * b  \n",
        "div1 = a / b  \n",
        "div2 = a // b \n",
        "mod = a % b \n",
        "power = a ** b\n",
        "print(add) \n",
        "print(sub) \n",
        "print(mul) \n",
        "print(div1) \n",
        "print(div2) \n",
        "print(mod)\n",
        "print(power)\n",
        "print(\"Relational Operators\")\n",
        "print(a > b)\n",
        "print(a < b)\n",
        "print(a == b)\n",
        "print(a != b)\n",
        "print(a >= b)\n",
        "print(a <= b)\n",
        "print(\"Bitwise Operators\")\n",
        "print(a & b)\n",
        "print(a | b)\n",
        "print(~a)\n",
        "print(a ^ b)\n",
        "print(\"a >> 1 =\", a >> 1)\n",
        "print(\"b >> 1 =\", b >> 1)\n",
        "print(\"a << 1 =\", a << 1)\n",
        "print(\"b << 1 =\", b << 1)\n",
        "print(\"Identity Operator\")\n",
        "print(a is not b) \n",
        "print(a is b)\n",
        "print(\"Assignment Operator\")\n",
        "a+=b\n",
        "print(a)\n",
        "a-=b\n",
        "print(a)\n",
        "a*=b\n",
        "print(a)\n",
        "a/=b\n",
        "print(a)"
      ],
      "execution_count": null,
      "outputs": [
        {
          "output_type": "stream",
          "text": [
            "Arithmetic Operators\n",
            "Enter the value of a22\n",
            "Enter the value of b11\n",
            "33\n",
            "11\n",
            "242\n",
            "2.0\n",
            "2\n",
            "0\n",
            "584318301411328\n",
            "Relational Operators\n",
            "True\n",
            "False\n",
            "False\n",
            "True\n",
            "True\n",
            "False\n",
            "Bitwise Operators\n",
            "2\n",
            "31\n",
            "-23\n",
            "29\n",
            "a >> 1 = 11\n",
            "b >> 1 = 5\n",
            "a << 1 = 44\n",
            "b << 1 = 22\n",
            "Identity Operator\n",
            "True\n",
            "False\n",
            "Assignment Operator\n",
            "33\n",
            "22\n",
            "242\n",
            "22.0\n"
          ],
          "name": "stdout"
        }
      ]
    },
    {
      "cell_type": "markdown",
      "metadata": {
        "id": "PSUpMS-paLOS"
      },
      "source": [
        "Expressions"
      ]
    },
    {
      "cell_type": "code",
      "metadata": {
        "colab": {
          "base_uri": "https://localhost:8080/"
        },
        "id": "PF9-HCuXW1nS",
        "outputId": "fd3ec53a-f2eb-4f68-c844-b078398bad6a"
      },
      "source": [
        "a=int(input(\"Enter the value of a\"))\n",
        "b=int(input(\"Enter the value of b\"))\n",
        "c=int(input(\"Enter the value of c\"))\n",
        "p = a - b / 3 + c * 2 - 1\n",
        "q = a - b / (3 + c) * (2 - 1)\n",
        "r = a - (b / (3 + c) * 2) - 1\n",
        "s = a - (b / (3 + c) * 2 - 1)\n",
        "print(p)\n",
        "print(q)\n",
        "print(r)\n",
        "print(s)"
      ],
      "execution_count": null,
      "outputs": [
        {
          "output_type": "stream",
          "text": [
            "Enter the value of a55\n",
            "Enter the value of b11\n",
            "Enter the value of c10\n",
            "70.33333333333334\n",
            "54.15384615384615\n",
            "52.30769230769231\n",
            "54.30769230769231\n"
          ],
          "name": "stdout"
        }
      ]
    }
  ]
}