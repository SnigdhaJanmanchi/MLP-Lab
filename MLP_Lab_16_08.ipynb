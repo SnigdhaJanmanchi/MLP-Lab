{
  "nbformat": 4,
  "nbformat_minor": 0,
  "metadata": {
    "colab": {
      "name": "MLP_Lab_16_08",
      "provenance": []
    },
    "kernelspec": {
      "name": "python3",
      "display_name": "Python 3"
    },
    "language_info": {
      "name": "python"
    }
  },
  "cells": [
    {
      "cell_type": "markdown",
      "metadata": {
        "id": "A_DOyw7OsfiR"
      },
      "source": [
        "Program to implement lists\n"
      ]
    },
    {
      "cell_type": "code",
      "metadata": {
        "colab": {
          "base_uri": "https://localhost:8080/"
        },
        "id": "0SrLIlHjsZrU",
        "outputId": "e6a7c841-0c08-4a3b-afb3-ec92e1f66cea"
      },
      "source": [
        "student=[11,22,43,'Snigdha','Janmanchi',8.3]\n",
        "print(student)\n",
        "print(student[0])\n",
        "print(student[0:3])\n",
        "student.append(55)\n",
        "print(student)\n",
        "x=student.copy()\n",
        "print(x)\n",
        "student.remove(\"Janmanchi\")\n",
        "print(student)\n"
      ],
      "execution_count": 1,
      "outputs": [
        {
          "output_type": "stream",
          "name": "stdout",
          "text": [
            "[11, 22, 43, 'Snigdha', 'Janmanchi', 8.3]\n",
            "11\n",
            "[11, 22, 43]\n",
            "[11, 22, 43, 'Snigdha', 'Janmanchi', 8.3, 55]\n",
            "[11, 22, 43, 'Snigdha', 'Janmanchi', 8.3, 55]\n",
            "[11, 22, 43, 'Snigdha', 8.3, 55]\n"
          ]
        }
      ]
    },
    {
      "cell_type": "markdown",
      "metadata": {
        "id": "P8NA7uWLsv78"
      },
      "source": [
        "Program to implement kmeans using scikit learn"
      ]
    },
    {
      "cell_type": "code",
      "metadata": {
        "id": "7XQN9BZVszzR"
      },
      "source": [
        "import matplotlib.pyplot as plt\n",
        "%matplotlib inline\n"
      ],
      "execution_count": 2,
      "outputs": []
    },
    {
      "cell_type": "code",
      "metadata": {
        "id": "rThAkdmKs31s"
      },
      "source": [
        "import numpy as np\n",
        "from sklearn.cluster import KMeans"
      ],
      "execution_count": 3,
      "outputs": []
    },
    {
      "cell_type": "code",
      "metadata": {
        "colab": {
          "base_uri": "https://localhost:8080/",
          "height": 333
        },
        "id": "XoAmhmpos7_E",
        "outputId": "2a27b355-6a17-429b-fed5-24c8a04ffe1b"
      },
      "source": [
        "X=np.array([[5,30],[23,45],[99,89],[14,90],[71,98],[24,46],[90,91],[25,52],[85,85],[69,53],])\n",
        "plt.scatter(X[:,0],X[:,1],label='True Position')\n",
        "kmeans=KMeans(n_clusters=2)\n",
        "kmeans.fit(X)\n",
        "print(kmeans.cluster_centers_)\n",
        "print(kmeans.labels_)\n",
        "plt.scatter(X[:,0],X[:,1],c=kmeans.labels_,cmap='rainbow')\n",
        "plt.scatter(X[:,0],X[:,1],c=kmeans.labels_,cmap='rainbow')\n",
        "plt.scatter(kmeans.cluster_centers_[:,0],kmeans.cluster_centers_[:,1],color='black')"
      ],
      "execution_count": 4,
      "outputs": [
        {
          "output_type": "stream",
          "name": "stdout",
          "text": [
            "[[82.8 83.2]\n",
            " [18.2 52.6]]\n",
            "[1 1 0 1 0 1 0 1 0 0]\n"
          ]
        },
        {
          "output_type": "execute_result",
          "data": {
            "text/plain": [
              "<matplotlib.collections.PathCollection at 0x7f85b8a87790>"
            ]
          },
          "metadata": {},
          "execution_count": 4
        },
        {
          "output_type": "display_data",
          "data": {
            "image/png": "[encoded data removed]",
            "text/plain": [
              "<Figure size 432x288 with 1 Axes>"
            ]
          },
          "metadata": {
            "needs_background": "light"
          }
        }
      ]
    }
  ]
}