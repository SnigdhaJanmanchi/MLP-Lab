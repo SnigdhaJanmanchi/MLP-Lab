{
  "nbformat": 4,
  "nbformat_minor": 0,
  "metadata": {
    "colab": {
      "name": "Ep Lab Programs",
      "provenance": [],
      "collapsed_sections": [],
      "toc_visible": true
    },
    "kernelspec": {
      "name": "python3",
      "display_name": "Python 3"
    },
    "language_info": {
      "name": "python"
    }
  },
  "cells": [
    {
      "cell_type": "markdown",
      "metadata": {
        "id": "iwJ3piKqOJPP"
      },
      "source": [
        "Name: Snigdha Janmanchi"
      ]
    },
    {
      "cell_type": "markdown",
      "metadata": {
        "id": "yLyBlVxrOQMI"
      },
      "source": [
        "Roll Number: 19911A3521"
      ]
    },
    {
      "cell_type": "markdown",
      "metadata": {
        "id": "r0S5vLOBPJRa"
      },
      "source": [
        "# Exercise 1"
      ]
    },
    {
      "cell_type": "markdown",
      "metadata": {
        "id": "0itBUnov8qeQ"
      },
      "source": [
        "A:Installation and Environment setup of python"
      ]
    },
    {
      "cell_type": "markdown",
      "metadata": {
        "id": "Z7QSkY5M8k0Z"
      },
      "source": [
        " Step 1: Select Version of Python to Install.\n",
        "\n",
        "Step 2: Download Python Executable Installer.\n",
        "\n",
        "Step 3: Run Executable Installer.\n",
        "\n",
        "Step 4: Verify Python Was Installed On Windows.\n",
        "\n",
        "Step 5: Verify Pip Was Installed.\n",
        "\n",
        "Step 6: Add Python Path to Environment Variables.\n",
        "\n"
      ]
    },
    {
      "cell_type": "markdown",
      "metadata": {
        "id": "8uiPuPJrtLs0"
      },
      "source": [
        "B:Write a program to demonstrate Basic Data Types"
      ]
    },
    {
      "cell_type": "code",
      "metadata": {
        "id": "39jUsYKjOZO6",
        "colab": {
          "base_uri": "https://localhost:8080/"
        },
        "outputId": "c27f7507-9856-4ee3-fb95-c6445f06d6e3"
      },
      "source": [
        "#b\n",
        "print(\"Integer\")\n",
        "x = 9     \n",
        "print(x)\n",
        "print(type(x))\n",
        "print(\"Float\")\n",
        "x = 55.6 \n",
        "print(x)\n",
        "print(type(x))\n",
        "print(\"Complex\")\n",
        "x = 1j      \n",
        "print(x)\n",
        "print(type(x))\n",
        "print(\"String\") \n",
        "x = \"Artificial Intelligence\"    \n",
        "print(x)\n",
        "print(type(x))\n",
        "print(\"List\")\n",
        "x=['Snigdha','Ashritha','Sravya', 'Priyanka','Akshaya']  \n",
        "print(x)\n",
        "print(type(x))\n",
        "print(\"Tuples\")\n",
        "x=('Snigdha','Ashritha','Sravya', 'Priyanka','Akshaya')   \n",
        "print(x)\n",
        "print(type(x))\n",
        "print(\"Dictionary\")\n",
        "x={1:'Snigdha',2:'Ashritha',3:'Sravya', 4:'Priyanka', 5:'Akshaya'}  \n",
        "print(x)\n",
        "print(type(x))\n",
        "print(\"Boolean\")\n",
        "x = True  \n",
        "print(x)\n",
        "print(type(x))"
      ],
      "execution_count": null,
      "outputs": [
        {
          "output_type": "stream",
          "text": [
            "Integer\n",
            "9\n",
            "<class 'int'>\n",
            "Float\n",
            "55.6\n",
            "<class 'float'>\n",
            "Complex\n",
            "1j\n",
            "<class 'complex'>\n",
            "String\n",
            "Artificial Intelligence\n",
            "<class 'str'>\n",
            "List\n",
            "['Snigdha', 'Ashritha', 'Sravya', 'Priyanka', 'Akshaya']\n",
            "<class 'list'>\n",
            "Tuples\n",
            "('Snigdha', 'Ashritha', 'Sravya', 'Priyanka', 'Akshaya')\n",
            "<class 'tuple'>\n",
            "Dictionary\n",
            "{1: 'Snigdha', 2: 'Ashritha', 3: 'Sravya', 4: 'Priyanka', 5: 'Akshaya'}\n",
            "<class 'dict'>\n",
            "Boolean\n",
            "True\n",
            "<class 'bool'>\n"
          ],
          "name": "stdout"
        }
      ]
    },
    {
      "cell_type": "markdown",
      "metadata": {
        "id": "aZ4fAwaWtmbm"
      },
      "source": [
        "C:Write a program to demonstrate the Operators and Expressions"
      ]
    },
    {
      "cell_type": "code",
      "metadata": {
        "colab": {
          "base_uri": "https://localhost:8080/"
        },
        "id": "iN8gehtwQjlR",
        "outputId": "3c79ae2d-9910-4d79-dd7c-20c94e68a789"
      },
      "source": [
        "#c\n",
        "print(\"Arithmetic Operators\")\n",
        "a = int(input(\"Enter the value of a\"))\n",
        "b = int(input(\"Enter the value of b\"))\n",
        "add = a + b \n",
        "sub = a - b  \n",
        "mul = a * b  \n",
        "div1 = a / b  \n",
        "div2 = a // b \n",
        "mod = a % b \n",
        "power = a ** b\n",
        "print(add) \n",
        "print(sub) \n",
        "print(mul) \n",
        "print(div1) \n",
        "print(div2) \n",
        "print(mod)\n",
        "print(power)\n",
        "print(\"Relational Operators\")\n",
        "print(a > b)\n",
        "print(a < b)\n",
        "print(a == b)\n",
        "print(a != b)\n",
        "print(a >= b)\n",
        "print(a <= b)\n",
        "print(\"Bitwise Operators\")\n",
        "print(a & b)\n",
        "print(a | b)\n",
        "print(~a)\n",
        "print(a ^ b)\n",
        "print(\"a >> 1 =\", a >> 1)\n",
        "print(\"b >> 1 =\", b >> 1)\n",
        "print(\"a << 1 =\", a << 1)\n",
        "print(\"b << 1 =\", b << 1)\n",
        "print(\"Identity Operator\")\n",
        "print(a is not b) \n",
        "print(a is b)\n",
        "print(\"Assignment Operator\")\n",
        "a+=b\n",
        "print(a)\n",
        "a-=b\n",
        "print(a)\n",
        "a*=b\n",
        "print(a)\n",
        "a/=b\n",
        "print(a)\n",
        "a%=b\n",
        "print(a)\n",
        "a//=b\n",
        "print(a)\n",
        "a**=b\n",
        "print(a)\n",
        "\n",
        "\n"
      ],
      "execution_count": null,
      "outputs": [
        {
          "output_type": "stream",
          "text": [
            "Arithmetic Operators\n",
            "Enter the value of a5\n",
            "Enter the value of b8\n",
            "13\n",
            "-3\n",
            "40\n",
            "0.625\n",
            "0\n",
            "5\n",
            "390625\n",
            "Relational Operators\n",
            "False\n",
            "True\n",
            "False\n",
            "True\n",
            "False\n",
            "True\n"
          ],
          "name": "stdout"
        }
      ]
    },
    {
      "cell_type": "markdown",
      "metadata": {
        "id": "ANOy7m1rt182"
      },
      "source": [
        "D:Write a program to demonstrate the Functions and Parameter passing techniques\n"
      ]
    },
    {
      "cell_type": "code",
      "metadata": {
        "id": "MKxoVpkZQ6zd",
        "colab": {
          "base_uri": "https://localhost:8080/"
        },
        "outputId": "4904df2b-c5e6-4349-c966-24b9e4bba93b"
      },
      "source": [
        "#d\n",
        "print(\"Without parameters and without return type\")\n",
        "def difference():\n",
        "  a=int(input(\"Enter the value of a\"))\n",
        "  b=int(input(\"Enter the value of b\"))\n",
        "  c=a-b\n",
        "  print(c)\n",
        "difference()\n",
        "print(\"Without paramters and with return type\")\n",
        "def difference():\n",
        "  a=int(input(\"Enter the value of a\"))\n",
        "  b=int(input(\"Enter the value of b\"))\n",
        "  c=a-b\n",
        "  return c\n",
        "print(difference())\n",
        "print(\"With paramters and with return type\")\n",
        "a=int(input(\"Enter the value of a\"))\n",
        "b=int(input(\"Enter the value of b\"))\n",
        "def difference(a,b):\n",
        "  c=a-b\n",
        "  return c\n",
        "print(difference(a,b))\n",
        "print(\"With paramters and without return type\")\n",
        "a=int(input(\"Enter the value of a\"))\n",
        "b=int(input(\"Enter the value of b\"))\n",
        "def difference(a,b):\n",
        "  c=a-b\n",
        "  print(c)\n",
        "difference(a,b)\n"
      ],
      "execution_count": null,
      "outputs": [
        {
          "output_type": "stream",
          "text": [
            "Without parameters and without return type\n",
            "Enter the value of a5\n",
            "Enter the value of b4\n",
            "1\n",
            "Without paramters and with return type\n",
            "Enter the value of a5\n",
            "Enter the value of b4\n",
            "1\n",
            "With paramters and with return type\n",
            "Enter the value of a5\n",
            "Enter the value of b4\n",
            "1\n",
            "With paramters and without return type\n",
            "Enter the value of a5\n",
            "Enter the value of b4\n",
            "1\n"
          ],
          "name": "stdout"
        }
      ]
    },
    {
      "cell_type": "markdown",
      "metadata": {
        "id": "1IsoRuPEPRGR"
      },
      "source": [
        "# Exercise 2"
      ]
    },
    {
      "cell_type": "markdown",
      "metadata": {
        "id": "u50Mo49Yuebu"
      },
      "source": [
        "A:Write a program to implement\n",
        "i)Packages"
      ]
    },
    {
      "cell_type": "code",
      "metadata": {
        "colab": {
          "base_uri": "https://localhost:8080/"
        },
        "id": "CvcY5qviu2Ra",
        "outputId": "235fa9d0-3712-4ad3-8be1-e5fc4f8f89d3"
      },
      "source": [
        "#a\n",
        "import numpy as np\n",
        "arr = np.array( [[ 1, 2, 3],\n",
        "                 [ 4, 2, 5]] )\n",
        "print(\"Array is of type: \", type(arr))"
      ],
      "execution_count": null,
      "outputs": [
        {
          "output_type": "stream",
          "text": [
            "Array is of type:  <class 'numpy.ndarray'>\n"
          ],
          "name": "stdout"
        }
      ]
    },
    {
      "cell_type": "markdown",
      "metadata": {
        "id": "KnGYU46YviyZ"
      },
      "source": [
        "ii)Modules"
      ]
    },
    {
      "cell_type": "code",
      "metadata": {
        "colab": {
          "base_uri": "https://localhost:8080/"
        },
        "id": "LgHG8c8sviW6",
        "outputId": "48fcf0f5-8871-442f-d970-61c35dfb133a"
      },
      "source": [
        "#a\n",
        "import math             \n",
        "num = 4\n",
        "print(math.sqrt(num))"
      ],
      "execution_count": null,
      "outputs": [
        {
          "output_type": "stream",
          "text": [
            "2.0\n"
          ],
          "name": "stdout"
        }
      ]
    },
    {
      "cell_type": "markdown",
      "metadata": {
        "id": "znQ5XkUSvVaB"
      },
      "source": [
        "iii)Built-in Functions"
      ]
    },
    {
      "cell_type": "code",
      "metadata": {
        "id": "NW7lUmXkXtib",
        "colab": {
          "base_uri": "https://localhost:8080/"
        },
        "outputId": "d0e54011-f8f6-47a3-de30-ce162e12a1b0"
      },
      "source": [
        "#a\n",
        "print(\"Binary\")\n",
        "x=144\n",
        "print(bin(x))\n",
        "y=4\n",
        "print(bin(y))\n",
        "print(\"Absolute\")\n",
        "x=144\n",
        "print(abs(x))\n",
        "y=-144\n",
        "print(abs(y))\n",
        "print(\"Boolean\")\n",
        "test1=[100,200]\n",
        "print(bool(test1))\n",
        "print(\"identity\")\n",
        "x=2\n",
        "print(id(x))\n",
        "print(id(4))"
      ],
      "execution_count": null,
      "outputs": [
        {
          "output_type": "stream",
          "text": [
            "Binary\n",
            "0b10010000\n",
            "0b100\n",
            "Absolute\n",
            "144\n",
            "144\n",
            "Boolean\n",
            "True\n"
          ],
          "name": "stdout"
        }
      ]
    },
    {
      "cell_type": "markdown",
      "metadata": {
        "id": "uqR-MWLZy2Kt"
      },
      "source": [
        "B:Write a program to implement \n",
        "i)List\n",
        "ii)Tuple\n",
        "iii)Dictionaries"
      ]
    },
    {
      "cell_type": "code",
      "metadata": {
        "colab": {
          "base_uri": "https://localhost:8080/"
        },
        "id": "7SfScnf3Xvk9",
        "outputId": "1555ac5e-ba18-404a-9377-cd800a7eca6c"
      },
      "source": [
        "#b\n",
        "print(\"List\")\n",
        "list_a = [10,345,23,45,50,60]\n",
        "a = int(input(\"Enter the value to check: \"))\n",
        "if a in list_a:\n",
        "  print(\"{} is present in the list\".format(a))\n",
        "else:\n",
        "  print(\"{} is not present in the list\". format(a))\n",
        "print(\"Dictionary\")\n",
        "dict_a = {\"a\":2208,\"b\":2402, \"c\":1705, \"d\":2902}\n",
        "a = int(input(\"Enter the value to check: \"))\n",
        "if a in dict_a.values():\n",
        "   print(\"{} is present in the dict\". format(a))\n",
        "else:\n",
        "   print(\"{} is not present in the dict\".format(a))\n",
        "print(\"Tuple\")\n",
        "X=(100,200,300,400,500)\n",
        "print(X)\n",
        "print(X[1])\n",
        "print(X[-1])\n",
        "print(X[:-1])\n",
        "print(X[:-2])\n",
        "print(X[-2:])\n",
        "print(X[-1:])"
      ],
      "execution_count": null,
      "outputs": [
        {
          "output_type": "stream",
          "text": [
            "List\n",
            "Enter the value to check: 22\n",
            "22 is not present in the list\n",
            "Dictionary\n",
            "Enter the value to check: 4409\n",
            "4409 is not present in the dict\n",
            "Tuple\n",
            "(100, 200, 300, 400, 500)\n",
            "200\n",
            "500\n",
            "(100, 200, 300, 400)\n",
            "(100, 200, 300)\n",
            "(400, 500)\n",
            "(500,)\n"
          ],
          "name": "stdout"
        }
      ]
    },
    {
      "cell_type": "markdown",
      "metadata": {
        "id": "dKgZJ7h1zJus"
      },
      "source": [
        "C:Programs on Strings,String Operations and Regular Expressions"
      ]
    },
    {
      "cell_type": "code",
      "metadata": {
        "id": "q0HihkctZ9CQ",
        "colab": {
          "base_uri": "https://localhost:8080/"
        },
        "outputId": "e4cc965f-52cb-4a96-d4a9-260d11fa6161"
      },
      "source": [
        "#c\n",
        "String1 = 'Snigdha'\n",
        "print(String1)\n",
        "s=\"Hello Everyone this is Snigdha\"\n",
        "t=\"Hello\"\n",
        "print(len(str(s)))\n",
        "print(s.capitalize())\n",
        "print(s.count('h',0,28))\n",
        "print(s.index(\"S\",12,28))\n",
        "print(s.isalnum())\n",
        "print(s.endswith(\"a\",0,5))\n",
        "print(s.find(\"this\"))\n",
        "print(s.isupper())\n",
        "print(s.islower())\n",
        "print(s.isspace())\n",
        "print(s.istitle())\n",
        "print(s.replace(\"Snigdha\",\"Akshaya\"))\n",
        "print(\"Regular Expression\")\n",
        "import re\n",
        "p = re.compile('\\d')\n",
        "print(p.findall(\"I went to him at 11 A.M. on 22nd August 2002\"))\n",
        "p = re.compile('\\d+')\n",
        "print(p.findall(\"I went to him at 11 A.M. on 22nd August 2002\"))"
      ],
      "execution_count": null,
      "outputs": [
        {
          "output_type": "stream",
          "text": [
            "Snigdha\n",
            "30\n",
            "Hello everyone this is snigdha\n",
            "1\n",
            "23\n",
            "False\n",
            "False\n",
            "15\n",
            "False\n",
            "False\n",
            "False\n",
            "False\n",
            "Hello Everyone this is Akshaya\n",
            "Regular Expression\n",
            "['1', '1', '2', '2', '2', '0', '0', '2']\n",
            "['11', '22', '2002']\n"
          ],
          "name": "stdout"
        }
      ]
    },
    {
      "cell_type": "markdown",
      "metadata": {
        "id": "c_ldgvCQPaOa"
      },
      "source": [
        "# Exercise 3"
      ]
    },
    {
      "cell_type": "markdown",
      "metadata": {
        "id": "sl2zR7D_zUSi"
      },
      "source": [
        "A:Write a program to implement Classes and Objects"
      ]
    },
    {
      "cell_type": "code",
      "metadata": {
        "colab": {
          "base_uri": "https://localhost:8080/"
        },
        "id": "8TEzLKp2gbF9",
        "outputId": "a7877238-d519-45f1-c304-f84906d12c2e"
      },
      "source": [
        "#a\n",
        "class parent:\n",
        "  def __init__(self,fname,fage):\n",
        "    self.name=fname\n",
        "    self.age=fage\n",
        "  def view(self):\n",
        "    print(self.name+\" \"+\"age is\",self.age)\n",
        "o=parent('Snigdha',19)\n",
        "o.view()"
      ],
      "execution_count": null,
      "outputs": [
        {
          "output_type": "stream",
          "text": [
            "Snigdha age is 19\n"
          ],
          "name": "stdout"
        }
      ]
    },
    {
      "cell_type": "markdown",
      "metadata": {
        "id": "yjOxPK4E4NWl"
      },
      "source": [
        "B:Write a program to implement Static and Instance methods,Abstract classes and Interfaces"
      ]
    },
    {
      "cell_type": "code",
      "metadata": {
        "id": "XMfqqzbPhEOR",
        "colab": {
          "base_uri": "https://localhost:8080/"
        },
        "outputId": "9452af7f-ec6a-4540-d98b-c96a21d1926f"
      },
      "source": [
        "#b\n",
        "print(\"STATIC AND INSTANCE METHODS\")\n",
        "print(\"Static Method\")\n",
        "class Number():\n",
        "    @staticmethod\n",
        "    def even(x):\n",
        "        if x % 2 == 0:\n",
        "            return True\n",
        "        else:\n",
        "            return False\n",
        "print(Number.even(38))\n",
        "print(\"Instance Method\")\n",
        "class plant():\n",
        "    def __init__(self, name):\n",
        "        self.name = name\t\t\n",
        "    def display(self):\n",
        "        return self.name\n",
        "plant1=plant(\"Rose\")\n",
        "plant2=plant(\"Sunflower\")\n",
        "print(plant1.display())\n",
        "print(plant2.display())\n",
        "print(\"Abstract Class\")\n",
        "from abc import ABC,abstractmethod\n",
        "class house(ABC):\n",
        "  @abstractmethod\n",
        "  def no_of_rooms(self):\n",
        "    pass\n",
        "class villa1(house):\n",
        "  def no_of_rooms(self):\n",
        "    print(\"1 Room\")\n",
        "class villa2(house):\n",
        "  def no_of_rooms(self):\n",
        "    print(\"4 Rooms\")\n",
        "class villa3(house):\n",
        "  def no_of_rooms(self):\n",
        "    print(\"3 Rooms\")\n",
        "a=villa1()\n",
        "a.no_of_rooms()\n",
        "b=villa2()\n",
        "b.no_of_rooms()\n",
        "c=villa3()\n",
        "c.no_of_rooms()"
      ],
      "execution_count": null,
      "outputs": [
        {
          "output_type": "stream",
          "text": [
            "STATIC AND INSTANCE METHODS\n",
            "Static Method\n",
            "True\n",
            "Instance Method\n",
            "Rose\n",
            "Sunflower\n",
            "Abstract Class\n",
            "1 Room\n",
            "4 Rooms\n",
            "3 Rooms\n"
          ],
          "name": "stdout"
        }
      ]
    },
    {
      "cell_type": "markdown",
      "metadata": {
        "id": "vrM6PBxM4c8V"
      },
      "source": [
        "C:Write a program to compute distance between two points taking input from the user(Pythogoras theorem)"
      ]
    },
    {
      "cell_type": "code",
      "metadata": {
        "colab": {
          "base_uri": "https://localhost:8080/"
        },
        "id": "JDghenanhJjA",
        "outputId": "09409459-98bc-468a-f183-6cedf95c185e"
      },
      "source": [
        "#c\n",
        "x1=int(input(\"Enter x1 : \"))\n",
        "x2=int(input(\"Enter x2 : \"))\n",
        "y1=int(input(\"Enter y1 : \"))\n",
        "y2=int(input(\"Enter y2 : \"))\n",
        "result= ((((x2 - x1 )**2) + ((y2-y1)**2) )**0.5)\n",
        "print(\"The distance between\",(x1,x2),\"and\",(y1,y2),\"is : \",result)"
      ],
      "execution_count": null,
      "outputs": [
        {
          "output_type": "stream",
          "text": [
            "Enter x1 : 6\n",
            "Enter x2 : 7\n",
            "Enter y1 : 8\n",
            "Enter y2 : 9\n",
            "The distance between (6, 7) and (8, 9) is :  1.4142135623730951\n"
          ],
          "name": "stdout"
        }
      ]
    },
    {
      "cell_type": "markdown",
      "metadata": {
        "id": "B3B5vUm-PgQw"
      },
      "source": [
        "# Exercise 4"
      ]
    },
    {
      "cell_type": "markdown",
      "metadata": {
        "id": "q3aIg4LF4qAJ"
      },
      "source": [
        "A:Write a program to implement Inheritance and Polymorphism"
      ]
    },
    {
      "cell_type": "code",
      "metadata": {
        "id": "M4CW1edln-nH"
      },
      "source": [
        "#a\n",
        "print(\"Inheritance\")\n",
        "class parent:\n",
        "    def fun1(self):\n",
        "        print(\"Snigdha\")\n",
        "class child(parent):\n",
        "    def fun2(self):\n",
        "        print(\"Vanmayi\")\n",
        "ob=child()\n",
        "ob.fun1()\n",
        "print(\"Polymorphism\")\n",
        "def add(x, y, z = 0): \n",
        "    return x + y+z\n",
        "print(add(2, 3))\n",
        "print(add(2, 3, 4))"
      ],
      "execution_count": null,
      "outputs": []
    },
    {
      "cell_type": "markdown",
      "metadata": {
        "id": "HFwZuGAE4y7R"
      },
      "source": [
        "B:Write a program to implement Files"
      ]
    },
    {
      "cell_type": "code",
      "metadata": {
        "colab": {
          "base_uri": "https://localhost:8080/"
        },
        "id": "w8l-oekTpZOa",
        "outputId": "5a29de54-2e2e-4853-ec76-715da07bec8a"
      },
      "source": [
        "#b\n",
        "file=open(\"/content/drive/MyDrive/cereal.csv\",\"r\")\n",
        "print(\"Name of the file:\",file.name)\n",
        "print(\"File open status:\",file.closed)\n",
        "print(\"File opened mode:\",file.mode)\n",
        "print(\"Content in the file:\")\n",
        "print(file.read())\n",
        "file.close()\n",
        "print(\"File open status:\",file.closed)"
      ],
      "execution_count": null,
      "outputs": [
        {
          "output_type": "stream",
          "text": [
            "Name of the file: /content/drive/MyDrive/cereal.csv\n",
            "File open status: False\n",
            "File opened mode: r\n",
            "Content in the file:\n",
            "name,mfr,type,calories,protein,fat,sodium,fiber,carbo,sugars,potass,vitamins,shelf,weight,cups,rating\n",
            "100% Bran,N,C,70,4,1,130,10,5,6,280,25,3,1,0.33,68.402973\n",
            "100% Natural Bran,Q,C,120,3,5,15,2,8,8,135,0,3,1,1,33.983679\n",
            "All-Bran,K,C,70,4,1,260,9,7,5,320,25,3,1,0.33,59.425505\n",
            "All-Bran with Extra Fiber,K,C,50,4,0,140,14,8,0,330,25,3,1,0.5,93.704912\n",
            "Almond Delight,R,C,110,2,2,200,1,14,8,-1,25,3,1,0.75,34.384843\n",
            "Apple Cinnamon Cheerios,G,C,110,2,2,180,1.5,10.5,10,70,25,1,1,0.75,29.509541\n",
            "Apple Jacks,K,C,110,2,0,125,1,11,14,30,25,2,1,1,33.174094\n",
            "Basic 4,G,C,130,3,2,210,2,18,8,100,25,3,1.33,0.75,37.038562\n",
            "Bran Chex,R,C,90,2,1,200,4,15,6,125,25,1,1,0.67,49.120253\n",
            "Bran Flakes,P,C,90,3,0,210,5,13,5,190,25,3,1,0.67,53.313813\n",
            "Cap'n'Crunch,Q,C,120,1,2,220,0,12,12,35,25,2,1,0.75,18.042851\n",
            "Cheerios,G,C,110,6,2,290,2,17,1,105,25,1,1,1.25,50.764999\n",
            "Cinnamon Toast Crunch,G,C,120,1,3,210,0,13,9,45,25,2,1,0.75,19.823573\n",
            "Clusters,G,C,110,3,2,140,2,13,7,105,25,3,1,0.5,40.400208\n",
            "Cocoa Puffs,G,C,110,1,1,180,0,12,13,55,25,2,1,1,22.736446\n",
            "Corn Chex,R,C,110,2,0,280,0,22,3,25,25,1,1,1,41.445019\n",
            "Corn Flakes,K,C,100,2,0,290,1,21,2,35,25,1,1,1,45.863324\n",
            "Corn Pops,K,C,110,1,0,90,1,13,12,20,25,2,1,1,35.782791\n",
            "Count Chocula,G,C,110,1,1,180,0,12,13,65,25,2,1,1,22.396513\n",
            "Cracklin' Oat Bran,K,C,110,3,3,140,4,10,7,160,25,3,1,0.5,40.448772\n",
            "Cream of Wheat (Quick),N,H,100,3,0,80,1,21,0,-1,0,2,1,1,64.533816\n",
            "Crispix,K,C,110,2,0,220,1,21,3,30,25,3,1,1,46.895644\n",
            "Crispy Wheat & Raisins,G,C,100,2,1,140,2,11,10,120,25,3,1,0.75,36.176196\n",
            "Double Chex,R,C,100,2,0,190,1,18,5,80,25,3,1,0.75,44.330856\n",
            "Froot Loops,K,C,110,2,1,125,1,11,13,30,25,2,1,1,32.207582\n",
            "Frosted Flakes,K,C,110,1,0,200,1,14,11,25,25,1,1,0.75,31.435973\n",
            "Frosted Mini-Wheats,K,C,100,3,0,0,3,14,7,100,25,2,1,0.8,58.345141\n",
            "Fruit & Fibre Dates; Walnuts; and Oats,P,C,120,3,2,160,5,12,10,200,25,3,1.25,0.67,40.917047\n",
            "Fruitful Bran,K,C,120,3,0,240,5,14,12,190,25,3,1.33,0.67,41.015492\n",
            "Fruity Pebbles,P,C,110,1,1,135,0,13,12,25,25,2,1,0.75,28.025765\n",
            "Golden Crisp,P,C,100,2,0,45,0,11,15,40,25,1,1,0.88,35.252444\n",
            "Golden Grahams,G,C,110,1,1,280,0,15,9,45,25,2,1,0.75,23.804043\n",
            "Grape Nuts Flakes,P,C,100,3,1,140,3,15,5,85,25,3,1,0.88,52.076897\n",
            "Grape-Nuts,P,C,110,3,0,170,3,17,3,90,25,3,1,0.25,53.371007\n",
            "Great Grains Pecan,P,C,120,3,3,75,3,13,4,100,25,3,1,0.33,45.811716\n",
            "Honey Graham Ohs,Q,C,120,1,2,220,1,12,11,45,25,2,1,1,21.871292\n",
            "Honey Nut Cheerios,G,C,110,3,1,250,1.5,11.5,10,90,25,1,1,0.75,31.072217\n",
            "Honey-comb,P,C,110,1,0,180,0,14,11,35,25,1,1,1.33,28.742414\n",
            "Just Right Crunchy  Nuggets,K,C,110,2,1,170,1,17,6,60,100,3,1,1,36.523683\n",
            "Just Right Fruit & Nut,K,C,140,3,1,170,2,20,9,95,100,3,1.3,0.75,36.471512\n",
            "Kix,G,C,110,2,1,260,0,21,3,40,25,2,1,1.5,39.241114\n",
            "Life,Q,C,100,4,2,150,2,12,6,95,25,2,1,0.67,45.328074\n",
            "Lucky Charms,G,C,110,2,1,180,0,12,12,55,25,2,1,1,26.734515\n",
            "Maypo,A,H,100,4,1,0,0,16,3,95,25,2,1,1,54.850917\n",
            "Muesli Raisins; Dates; & Almonds,R,C,150,4,3,95,3,16,11,170,25,3,1,1,37.136863\n",
            "Muesli Raisins; Peaches; & Pecans,R,C,150,4,3,150,3,16,11,170,25,3,1,1,34.139765\n",
            "Mueslix Crispy Blend,K,C,160,3,2,150,3,17,13,160,25,3,1.5,0.67,30.313351\n",
            "Multi-Grain Cheerios,G,C,100,2,1,220,2,15,6,90,25,1,1,1,40.105965\n",
            "Nut&Honey Crunch,K,C,120,2,1,190,0,15,9,40,25,2,1,0.67,29.924285\n",
            "Nutri-Grain Almond-Raisin,K,C,140,3,2,220,3,21,7,130,25,3,1.33,0.67,40.692320\n",
            "Nutri-grain Wheat,K,C,90,3,0,170,3,18,2,90,25,3,1,1,59.642837\n",
            "Oatmeal Raisin Crisp,G,C,130,3,2,170,1.5,13.5,10,120,25,3,1.25,0.5,30.450843\n",
            "Post Nat. Raisin Bran,P,C,120,3,1,200,6,11,14,260,25,3,1.33,0.67,37.840594\n",
            "Product 19,K,C,100,3,0,320,1,20,3,45,100,3,1,1,41.503540\n",
            "Puffed Rice,Q,C,50,1,0,0,0,13,0,15,0,3,0.5,1,60.756112\n",
            "Puffed Wheat,Q,C,50,2,0,0,1,10,0,50,0,3,0.5,1,63.005645\n",
            "Quaker Oat Squares,Q,C,100,4,1,135,2,14,6,110,25,3,1,0.5,49.511874\n",
            "Quaker Oatmeal,Q,H,100,5,2,0,2.7,-1,-1,110,0,1,1,0.67,50.828392\n",
            "Raisin Bran,K,C,120,3,1,210,5,14,12,240,25,2,1.33,0.75,39.259197\n",
            "Raisin Nut Bran,G,C,100,3,2,140,2.5,10.5,8,140,25,3,1,0.5,39.703400\n",
            "Raisin Squares,K,C,90,2,0,0,2,15,6,110,25,3,1,0.5,55.333142\n",
            "Rice Chex,R,C,110,1,0,240,0,23,2,30,25,1,1,1.13,41.998933\n",
            "Rice Krispies,K,C,110,2,0,290,0,22,3,35,25,1,1,1,40.560159\n",
            "Shredded Wheat,N,C,80,2,0,0,3,16,0,95,0,1,0.83,1,68.235885\n",
            "Shredded Wheat 'n'Bran,N,C,90,3,0,0,4,19,0,140,0,1,1,0.67,74.472949\n",
            "Shredded Wheat spoon size,N,C,90,3,0,0,3,20,0,120,0,1,1,0.67,72.801787\n",
            "Smacks,K,C,110,2,1,70,1,9,15,40,25,2,1,0.75,31.230054\n",
            "Special K,K,C,110,6,0,230,1,16,3,55,25,1,1,1,53.131324\n",
            "Strawberry Fruit Wheats,N,C,90,2,0,15,3,15,5,90,25,2,1,1,59.363993\n",
            "Total Corn Flakes,G,C,110,2,1,200,0,21,3,35,100,3,1,1,38.839746\n",
            "Total Raisin Bran,G,C,140,3,1,190,4,15,14,230,100,3,1.5,1,28.592785\n",
            "Total Whole Grain,G,C,100,3,1,200,3,16,3,110,100,3,1,1,46.658844\n",
            "Triples,G,C,110,2,1,250,0,21,3,60,25,3,1,0.75,39.106174\n",
            "Trix,G,C,110,1,1,140,0,13,12,25,25,2,1,1,27.753301\n",
            "Wheat Chex,R,C,100,3,1,230,3,17,3,115,25,1,1,0.67,49.787445\n",
            "Wheaties,G,C,100,3,1,200,3,17,3,110,25,1,1,1,51.592193\n",
            "Wheaties Honey Gold,G,C,110,2,1,200,1,16,8,60,25,1,1,0.75,36.187559\n",
            "\n",
            "File open status: True\n"
          ],
          "name": "stdout"
        }
      ]
    },
    {
      "cell_type": "code",
      "metadata": {
        "colab": {
          "base_uri": "https://localhost:8080/"
        },
        "id": "wmZNa_G9swjl",
        "outputId": "085966f5-3b7c-448e-c2b4-ab7bca2601dc"
      },
      "source": [
        "from google.colab import drive\n",
        "drive.mount('/content/drive')"
      ],
      "execution_count": null,
      "outputs": [
        {
          "output_type": "stream",
          "text": [
            "Drive already mounted at /content/drive; to attempt to forcibly remount, call drive.mount(\"/content/drive\", force_remount=True).\n"
          ],
          "name": "stdout"
        }
      ]
    },
    {
      "cell_type": "markdown",
      "metadata": {
        "id": "6DSCQF2-46oi"
      },
      "source": [
        "C:Write a program to illustrate Handling"
      ]
    },
    {
      "cell_type": "code",
      "metadata": {
        "id": "QSAS-jgDtHkI",
        "colab": {
          "base_uri": "https://localhost:8080/"
        },
        "outputId": "03c7b137-4510-4746-ddb7-160aa332edf2"
      },
      "source": [
        "#C\n",
        "try:\n",
        "    num=int(input(\"Enter numerator: \"))\n",
        "    den=int(input(\"enter denominator: \"))\n",
        "    q=num/den\n",
        "    print(\"Quotient= \",q)\n",
        "except ZeroDivisionError:\n",
        "    print(\"Denominator is zero\")\n",
        "except ValueError:\n",
        "    print(\"Please eneter only digits\")\n",
        "finally:\n",
        "    print(\"this is finally block.\");\n"
      ],
      "execution_count": null,
      "outputs": [
        {
          "output_type": "stream",
          "text": [
            "Enter numerator: 56\n",
            "enter denominator: 2\n",
            "Quotient=  28.0\n",
            "this is finally block.\n"
          ],
          "name": "stdout"
        }
      ]
    },
    {
      "cell_type": "markdown",
      "metadata": {
        "id": "3cMIodaWPmAD"
      },
      "source": [
        "# Exercise 5"
      ]
    },
    {
      "cell_type": "markdown",
      "metadata": {
        "id": "mVJqBz9VPp9s"
      },
      "source": [
        "A:Write a program using scikit-learn to implement K-means Clustering"
      ]
    },
    {
      "cell_type": "code",
      "metadata": {
        "id": "gz4680lbPpAr"
      },
      "source": [
        "\n",
        "import numpy as np\n",
        "import pandas as pd\n",
        "import matplotlib.pyplot as plt\n",
        "from sklearn.cluster import KMeans"
      ],
      "execution_count": null,
      "outputs": []
    },
    {
      "cell_type": "code",
      "metadata": {
        "colab": {
          "base_uri": "https://localhost:8080/",
          "height": 359
        },
        "id": "jLOUL9VXYPHj",
        "outputId": "338cae57-1dde-4bb1-8263-90043c807149"
      },
      "source": [
        "df = pd.read_csv('/content/drive/MyDrive/Iris.csv')\n",
        "df.head(10)"
      ],
      "execution_count": null,
      "outputs": [
        {
          "output_type": "execute_result",
          "data": {
            "text/html": [
              "<div>\n",
              "<style scoped>\n",
              "    .dataframe tbody tr th:only-of-type {\n",
              "        vertical-align: middle;\n",
              "    }\n",
              "\n",
              "    .dataframe tbody tr th {\n",
              "        vertical-align: top;\n",
              "    }\n",
              "\n",
              "    .dataframe thead th {\n",
              "        text-align: right;\n",
              "    }\n",
              "</style>\n",
              "<table border=\"1\" class=\"dataframe\">\n",
              "  <thead>\n",
              "    <tr style=\"text-align: right;\">\n",
              "      <th></th>\n",
              "      <th>Id</th>\n",
              "      <th>SepalLengthCm</th>\n",
              "      <th>SepalWidthCm</th>\n",
              "      <th>PetalLengthCm</th>\n",
              "      <th>PetalWidthCm</th>\n",
              "      <th>Species</th>\n",
              "    </tr>\n",
              "  </thead>\n",
              "  <tbody>\n",
              "    <tr>\n",
              "      <th>0</th>\n",
              "      <td>1</td>\n",
              "      <td>5.1</td>\n",
              "      <td>3.5</td>\n",
              "      <td>1.4</td>\n",
              "      <td>0.2</td>\n",
              "      <td>Iris-setosa</td>\n",
              "    </tr>\n",
              "    <tr>\n",
              "      <th>1</th>\n",
              "      <td>2</td>\n",
              "      <td>4.9</td>\n",
              "      <td>3.0</td>\n",
              "      <td>1.4</td>\n",
              "      <td>0.2</td>\n",
              "      <td>Iris-setosa</td>\n",
              "    </tr>\n",
              "    <tr>\n",
              "      <th>2</th>\n",
              "      <td>3</td>\n",
              "      <td>4.7</td>\n",
              "      <td>3.2</td>\n",
              "      <td>1.3</td>\n",
              "      <td>0.2</td>\n",
              "      <td>Iris-setosa</td>\n",
              "    </tr>\n",
              "    <tr>\n",
              "      <th>3</th>\n",
              "      <td>4</td>\n",
              "      <td>4.6</td>\n",
              "      <td>3.1</td>\n",
              "      <td>1.5</td>\n",
              "      <td>0.2</td>\n",
              "      <td>Iris-setosa</td>\n",
              "    </tr>\n",
              "    <tr>\n",
              "      <th>4</th>\n",
              "      <td>5</td>\n",
              "      <td>5.0</td>\n",
              "      <td>3.6</td>\n",
              "      <td>1.4</td>\n",
              "      <td>0.2</td>\n",
              "      <td>Iris-setosa</td>\n",
              "    </tr>\n",
              "    <tr>\n",
              "      <th>5</th>\n",
              "      <td>6</td>\n",
              "      <td>5.4</td>\n",
              "      <td>3.9</td>\n",
              "      <td>1.7</td>\n",
              "      <td>0.4</td>\n",
              "      <td>Iris-setosa</td>\n",
              "    </tr>\n",
              "    <tr>\n",
              "      <th>6</th>\n",
              "      <td>7</td>\n",
              "      <td>4.6</td>\n",
              "      <td>3.4</td>\n",
              "      <td>1.4</td>\n",
              "      <td>0.3</td>\n",
              "      <td>Iris-setosa</td>\n",
              "    </tr>\n",
              "    <tr>\n",
              "      <th>7</th>\n",
              "      <td>8</td>\n",
              "      <td>5.0</td>\n",
              "      <td>3.4</td>\n",
              "      <td>1.5</td>\n",
              "      <td>0.2</td>\n",
              "      <td>Iris-setosa</td>\n",
              "    </tr>\n",
              "    <tr>\n",
              "      <th>8</th>\n",
              "      <td>9</td>\n",
              "      <td>4.4</td>\n",
              "      <td>2.9</td>\n",
              "      <td>1.4</td>\n",
              "      <td>0.2</td>\n",
              "      <td>Iris-setosa</td>\n",
              "    </tr>\n",
              "    <tr>\n",
              "      <th>9</th>\n",
              "      <td>10</td>\n",
              "      <td>4.9</td>\n",
              "      <td>3.1</td>\n",
              "      <td>1.5</td>\n",
              "      <td>0.1</td>\n",
              "      <td>Iris-setosa</td>\n",
              "    </tr>\n",
              "  </tbody>\n",
              "</table>\n",
              "</div>"
            ],
            "text/plain": [
              "   Id  SepalLengthCm  SepalWidthCm  PetalLengthCm  PetalWidthCm      Species\n",
              "0   1            5.1           3.5            1.4           0.2  Iris-setosa\n",
              "1   2            4.9           3.0            1.4           0.2  Iris-setosa\n",
              "2   3            4.7           3.2            1.3           0.2  Iris-setosa\n",
              "3   4            4.6           3.1            1.5           0.2  Iris-setosa\n",
              "4   5            5.0           3.6            1.4           0.2  Iris-setosa\n",
              "5   6            5.4           3.9            1.7           0.4  Iris-setosa\n",
              "6   7            4.6           3.4            1.4           0.3  Iris-setosa\n",
              "7   8            5.0           3.4            1.5           0.2  Iris-setosa\n",
              "8   9            4.4           2.9            1.4           0.2  Iris-setosa\n",
              "9  10            4.9           3.1            1.5           0.1  Iris-setosa"
            ]
          },
          "metadata": {
            "tags": []
          },
          "execution_count": 10
        }
      ]
    },
    {
      "cell_type": "code",
      "metadata": {
        "id": "WgJT_jKaZdVd"
      },
      "source": [
        "x = df.iloc[:, [0,1,2,3]].values"
      ],
      "execution_count": null,
      "outputs": []
    },
    {
      "cell_type": "code",
      "metadata": {
        "colab": {
          "base_uri": "https://localhost:8080/"
        },
        "id": "qlpYViP8ZfOF",
        "outputId": "9168cef8-446c-49ef-ea22-6d257b6e78b1"
      },
      "source": [
        "kmeans5 = KMeans(n_clusters=5)\n",
        "y_kmeans5 = kmeans5.fit_predict(x)\n",
        "print(y_kmeans5)\n",
        "\n",
        "kmeans5.cluster_centers_"
      ],
      "execution_count": null,
      "outputs": [
        {
          "output_type": "stream",
          "text": [
            "[4 4 4 4 4 4 4 4 4 4 4 4 4 4 4 4 4 4 4 4 4 4 4 4 4 4 4 4 4 2 2 2 2 2 2 2 2\n",
            " 2 2 2 2 2 2 2 2 2 2 2 2 2 2 2 2 2 2 2 2 2 2 0 0 0 0 0 0 0 0 0 0 0 0 0 0 0\n",
            " 0 0 0 0 0 0 0 0 0 0 0 0 0 0 0 0 3 3 3 3 3 3 3 3 3 3 3 3 3 3 3 3 3 3 3 3 3\n",
            " 3 3 3 3 3 3 3 3 3 1 1 1 1 1 1 1 1 1 1 1 1 1 1 1 1 1 1 1 1 1 1 1 1 1 1 1 1\n",
            " 1 1]\n"
          ],
          "name": "stdout"
        },
        {
          "output_type": "execute_result",
          "data": {
            "text/plain": [
              "array([[ 75.        ,   5.95483871,   2.7483871 ,   4.28709677],\n",
              "       [135.5       ,   6.60666667,   3.01      ,   5.48333333],\n",
              "       [ 44.5       ,   5.33333333,   3.22      ,   2.34666667],\n",
              "       [105.5       ,   6.25333333,   2.85666667,   5.11333333],\n",
              "       [ 15.        ,   5.03793103,   3.45862069,   1.46896552]])"
            ]
          },
          "metadata": {
            "tags": []
          },
          "execution_count": 12
        }
      ]
    },
    {
      "cell_type": "code",
      "metadata": {
        "colab": {
          "base_uri": "https://localhost:8080/",
          "height": 265
        },
        "id": "dqaOd1uKZjwj",
        "outputId": "2c6c02d9-3a7a-4744-e10f-62828a105840"
      },
      "source": [
        "plt.scatter(x[:,0],x[:,1],c=y_kmeans5,cmap='rainbow',zorder=2)\n",
        "plt.grid(zorder=1)\n",
        "plt.show()"
      ],
      "execution_count": null,
      "outputs": [
        {
          "output_type": "display_data",
          "data": {
            "image/png": "[encoded data removed]",
            "text/plain": [
              "<Figure size 432x288 with 1 Axes>"
            ]
          },
          "metadata": {
            "tags": [],
            "needs_background": "light"
          }
        }
      ]
    },
    {
      "cell_type": "code",
      "metadata": {
        "colab": {
          "base_uri": "https://localhost:8080/",
          "height": 312
        },
        "id": "Vlzkul8aZoA8",
        "outputId": "a4ffd6bd-1726-4ce5-cdc7-978634691cc1"
      },
      "source": [
        "Error =[]\n",
        "for i in range(1, 11):\n",
        "    kmeans = KMeans(n_clusters = i).fit(x)\n",
        "    kmeans.fit(x)\n",
        "    Error.append(kmeans.inertia_)\n",
        "import matplotlib.pyplot as plt\n",
        "plt.plot(range(1, 11), Error)\n",
        "plt.title('Elbow method')\n",
        "plt.xlabel('No of clusters')\n",
        "plt.ylabel('Error')\n",
        "plt.show"
      ],
      "execution_count": null,
      "outputs": [
        {
          "output_type": "execute_result",
          "data": {
            "text/plain": [
              "<function matplotlib.pyplot.show>"
            ]
          },
          "metadata": {
            "tags": []
          },
          "execution_count": 14
        },
        {
          "output_type": "display_data",
          "data": {
            "image/png": "[encoded data removed]",
            "text/plain": [
              "<Figure size 432x288 with 1 Axes>"
            ]
          },
          "metadata": {
            "tags": [],
            "needs_background": "light"
          }
        }
      ]
    },
    {
      "cell_type": "code",
      "metadata": {
        "colab": {
          "base_uri": "https://localhost:8080/"
        },
        "id": "fSXqtEJtZ2Xs",
        "outputId": "d54afa66-d6d0-4563-d286-d41fed2ca2b8"
      },
      "source": [
        "kmeans3 = KMeans(n_clusters=3)\n",
        "y_kmeans3 = kmeans3.fit_predict(x)\n",
        "print(y_kmeans3)\n",
        "\n",
        "kmeans5.cluster_centers_"
      ],
      "execution_count": null,
      "outputs": [
        {
          "output_type": "stream",
          "text": [
            "[2 2 2 2 2 2 2 2 2 2 2 2 2 2 2 2 2 2 2 2 2 2 2 2 2 2 2 2 2 2 2 2 2 2 2 2 2\n",
            " 2 2 2 2 2 2 2 2 2 2 2 2 0 0 0 0 0 0 0 0 0 0 0 0 0 0 0 0 0 0 0 0 0 0 0 0 0\n",
            " 0 0 0 0 0 0 0 0 0 0 0 0 0 0 0 0 0 0 0 0 0 0 0 0 0 1 1 1 1 1 1 1 1 1 1 1 1\n",
            " 1 1 1 1 1 1 1 1 1 1 1 1 1 1 1 1 1 1 1 1 1 1 1 1 1 1 1 1 1 1 1 1 1 1 1 1 1\n",
            " 1 1]\n"
          ],
          "name": "stdout"
        },
        {
          "output_type": "execute_result",
          "data": {
            "text/plain": [
              "array([[ 75.        ,   5.95483871,   2.7483871 ,   4.28709677],\n",
              "       [135.5       ,   6.60666667,   3.01      ,   5.48333333],\n",
              "       [ 44.5       ,   5.33333333,   3.22      ,   2.34666667],\n",
              "       [105.5       ,   6.25333333,   2.85666667,   5.11333333],\n",
              "       [ 15.        ,   5.03793103,   3.45862069,   1.46896552]])"
            ]
          },
          "metadata": {
            "tags": []
          },
          "execution_count": 15
        }
      ]
    },
    {
      "cell_type": "code",
      "metadata": {
        "colab": {
          "base_uri": "https://localhost:8080/",
          "height": 265
        },
        "id": "34841bYuZ7bT",
        "outputId": "9173b748-e8bb-4e23-e0ac-1e75b4c87232"
      },
      "source": [
        "plt.scatter(x[:,0],x[:,1],c=y_kmeans3,cmap='rainbow',zorder=2)\n",
        "plt.grid(zorder=1)\n",
        "plt.show()"
      ],
      "execution_count": null,
      "outputs": [
        {
          "output_type": "display_data",
          "data": {
            "image/png": "[encoded data removed]",
            "text/plain": [
              "<Figure size 432x288 with 1 Axes>"
            ]
          },
          "metadata": {
            "tags": [],
            "needs_background": "light"
          }
        }
      ]
    },
    {
      "cell_type": "markdown",
      "metadata": {
        "id": "lP13fJs9Z_-a"
      },
      "source": [
        "B:Program to Calculate Entropy and the information gain"
      ]
    },
    {
      "cell_type": "code",
      "metadata": {
        "colab": {
          "base_uri": "https://localhost:8080/"
        },
        "id": "jrV97O91Z-DD",
        "outputId": "46a7ba1b-0e41-4f5e-d384-014eeda54b0b"
      },
      "source": [
        "pip install scipy"
      ],
      "execution_count": null,
      "outputs": [
        {
          "output_type": "stream",
          "text": [
            "Requirement already satisfied: scipy in /usr/local/lib/python3.7/dist-packages (1.4.1)\n",
            "Requirement already satisfied: numpy>=1.13.3 in /usr/local/lib/python3.7/dist-packages (from scipy) (1.19.5)\n"
          ],
          "name": "stdout"
        }
      ]
    },
    {
      "cell_type": "code",
      "metadata": {
        "colab": {
          "base_uri": "https://localhost:8080/"
        },
        "id": "2NQjtKEQaRQi",
        "outputId": "53cb3a26-6f12-42a5-817c-049d528d89ef"
      },
      "source": [
        "from __future__ import division\n",
        "from math import log\n",
        "\n",
        "def entropy(pi):\n",
        "  total = 0\n",
        "  for p in pi:\n",
        "        p = p / sum(pi)\n",
        "        if p != 0:\n",
        "            total += p * log(p, 2)\n",
        "        else:\n",
        "            total += 0\n",
        "  total *= -1\n",
        "  return total\n",
        "def gain(d, a):\n",
        "   total = 0\n",
        "   for v in a:\n",
        "        total += sum(v) / sum(d) * entropy(v)\n",
        "\n",
        "   gain = entropy(d) - total\n",
        "   return gain\n",
        "\n",
        "# set of example of the dataset\n",
        "willWait = [6, 6] # Yes, No\n",
        "\n",
        "# attribute, number of members (feature)\n",
        "patron = [ [4,0], [2,4], [0,2] ] # Some, Full, None\n",
        "\n",
        "print(gain(willWait, patron))"
      ],
      "execution_count": null,
      "outputs": [
        {
          "output_type": "stream",
          "text": [
            "0.5408520829727552\n"
          ],
          "name": "stdout"
        }
      ]
    },
    {
      "cell_type": "markdown",
      "metadata": {
        "id": "ozYswBkxditb"
      },
      "source": [
        "C:Program to implement Perceptron"
      ]
    },
    {
      "cell_type": "code",
      "metadata": {
        "id": "74NJvG_sNUSF"
      },
      "source": [
        "import numpy as np\n",
        "class Perceptron:\n",
        "    def __init__(self,learning_rate=0.01, n_iter=100, random_state=1):\n",
        "          self.learning_rate = learning_rate\n",
        "          self.n_iter = n_iter\n",
        "          self.random_state = random_state\n",
        "    \n",
        "    def fit(self, X, y):\n",
        "      rand = np.random.RandomState(self.random_state)\n",
        "      self.weights = rand.normal(loc=0.0, scale=0.01, size=1 +  X.shape[1])\n",
        "      self.errors_ = []\n",
        "      for _ in range(self.n_iter):\n",
        "        errors = 0\n",
        "        for x, target in zip(X, y):\n",
        "          update = self.learning_rate * (target - self.predict(x))\n",
        "          self.weights[1:] += update * x\n",
        "          self.weights[0] += update\n",
        "          errors += int(update != 0.0)\n",
        "          self.errors_.append(errors)\n",
        "        return self\n",
        "    def net_input(self, X):\n",
        "      z = np.dot(X, self.weights[1:]) + self.weights[0]\n",
        "      return z\n",
        "    def predict(self, X):\n",
        "      return np.where(self.net_input(X) >= 0, 1, -1)"
      ],
      "execution_count": null,
      "outputs": []
    },
    {
      "cell_type": "code",
      "metadata": {
        "id": "N9n622ObNVyI"
      },
      "source": [
        "from sklearn.datasets import load_iris\n",
        "X,y = load_iris(return_X_y=True)"
      ],
      "execution_count": null,
      "outputs": []
    },
    {
      "cell_type": "code",
      "metadata": {
        "colab": {
          "base_uri": "https://localhost:8080/",
          "height": 282
        },
        "id": "rQAThsJVNZWO",
        "outputId": "1cbfc5d2-e519-4671-fdbe-82a5ffc04519"
      },
      "source": [
        "import matplotlib.pyplot as plt\n",
        "import numpy as np\n",
        "%matplotlib inline\n",
        "plt.scatter(X[:50, 0], X[:50, 1],\n",
        "            color='green', marker='x', label='setosa')\n",
        "plt.scatter(X[50:100, 0], X[50:100, 1],\n",
        "            color='red', marker='o', label='versicolor')\n",
        "plt.xlabel('sepal length')\n",
        "plt.ylabel('petal length')\n",
        "plt.legend(loc='upper right')\n",
        "plt.show()"
      ],
      "execution_count": null,
      "outputs": [
        {
          "output_type": "display_data",
          "data": {
            "image/png": "[encoded data removed]",
            "text/plain": [
              "<Figure size 432x288 with 1 Axes>"
            ]
          },
          "metadata": {
            "tags": [],
            "needs_background": "light"
          }
        }
      ]
    },
    {
      "cell_type": "code",
      "metadata": {
        "colab": {
          "base_uri": "https://localhost:8080/",
          "height": 279
        },
        "id": "JQKE_L3DNg-F",
        "outputId": "d243879c-9e81-4687-ef30-b995f88ab05b"
      },
      "source": [
        "per = Perceptron(learning_rate=0.1, n_iter=100, random_state=1)\n",
        "per.fit(X, y)\n",
        "plt.plot(range(1, len(per.errors_) + 1), per.errors_, marker='o')\n",
        "plt.xlabel('Epochs')\n",
        "plt.ylabel('Number of updates')\n",
        "plt.show()"
      ],
      "execution_count": null,
      "outputs": [
        {
          "output_type": "display_data",
          "data": {
            "image/png": "[encoded data removed]",
            "text/plain": [
              "<Figure size 432x288 with 1 Axes>"
            ]
          },
          "metadata": {
            "tags": [],
            "needs_background": "light"
          }
        }
      ]
    },
    {
      "cell_type": "markdown",
      "metadata": {
        "id": "xNvd9bblPsPI"
      },
      "source": [
        "# Exercise 6"
      ]
    },
    {
      "cell_type": "markdown",
      "metadata": {
        "id": "d8MzwbRYfJ_q"
      },
      "source": [
        "A:Generate a decision tree .Find the depth of decision tree and observe the results then do some changes in DecisionTreeClassifier function to limit"
      ]
    },
    {
      "cell_type": "code",
      "metadata": {
        "colab": {
          "base_uri": "https://localhost:8080/"
        },
        "id": "9wWJpC7ifJef",
        "outputId": "d12c646f-eb9f-4675-cafe-da7e1342a135"
      },
      "source": [
        "class Node:\n",
        " \n",
        "   \n",
        "    def __init__(self, data):\n",
        "        self.data = data\n",
        "        self.left = None\n",
        "        self.right = None\n",
        " \n",
        "\n",
        "def maxDepth(node):\n",
        "    if node is None:\n",
        "        return 0 ;\n",
        " \n",
        "    else :\n",
        "        lDepth = maxDepth(node.left)\n",
        "        rDepth = maxDepth(node.right)\n",
        " \n",
        "        \n",
        "        if (lDepth > rDepth):\n",
        "            return lDepth+1\n",
        "        else:\n",
        "            return rDepth+1\n",
        " \n",
        " \n",
        "\n",
        "root = Node(22)\n",
        "root.left = Node(33)\n",
        "root.right = Node(44)\n",
        "root.left.left = Node(55)\n",
        "\n",
        " \n",
        " \n",
        "print (\"Height of tree is %d\" %(maxDepth(root)))"
      ],
      "execution_count": null,
      "outputs": [
        {
          "output_type": "stream",
          "text": [
            "Height of tree is 3\n"
          ],
          "name": "stdout"
        }
      ]
    },
    {
      "cell_type": "markdown",
      "metadata": {
        "id": "oHIEGBHVPxvQ"
      },
      "source": [
        "# Exercise 7"
      ]
    },
    {
      "cell_type": "markdown",
      "metadata": {
        "id": "vO9YZkCmhFSI"
      },
      "source": [
        "A:Calculating Matrices using numpy,inv,pinv,matrix_rank,solve,lstsq,svd,transpose,eig,sort,linespace,meshgrid,mgrid,ogrid,concatenate,tile,squeeze,integrate"
      ]
    },
    {
      "cell_type": "code",
      "metadata": {
        "id": "6ZeyUqkIhD-g",
        "colab": {
          "base_uri": "https://localhost:8080/"
        },
        "outputId": "bb20f1a5-a598-4858-fdcd-6b45254ec4df"
      },
      "source": [
        "   import numpy as np\n",
        "from numpy import linalg\n",
        "matrix = np.array([\n",
        "                [20,30,40,50],\n",
        "                [43,45,63,90],\n",
        "                [84,38,94,47],\n",
        "                [23,45,36,89]\n",
        "])\n",
        "\n",
        "print(\"Inverse of matrix:\\n\")\n",
        "print(linalg.inv(matrix))\n",
        "print(\"\\n\\n\")\n",
        "print(\"Pseudo Inverse of matrix:\\n\")\n",
        "print(linalg.pinv(matrix))                               "
      ],
      "execution_count": null,
      "outputs": [
        {
          "output_type": "stream",
          "text": [
            "Inverse of matrix:\n",
            "\n",
            "[[-0.07771535 -0.01350077  0.02528249  0.04396134]\n",
            " [ 0.08034003 -0.16607618  0.03771409  0.10289092]\n",
            " [ 0.05921469  0.04446448 -0.01804994 -0.06869877]\n",
            " [-0.04448963  0.06947443 -0.0183015  -0.02436008]]\n",
            "\n",
            "\n",
            "\n",
            "Pseudo Inverse of matrix:\n",
            "\n",
            "[[-0.07771535 -0.01350077  0.02528249  0.04396134]\n",
            " [ 0.08034003 -0.16607618  0.03771409  0.10289092]\n",
            " [ 0.05921469  0.04446448 -0.01804994 -0.06869877]\n",
            " [-0.04448963  0.06947443 -0.0183015  -0.02436008]]\n"
          ],
          "name": "stdout"
        }
      ]
    },
    {
      "cell_type": "code",
      "metadata": {
        "colab": {
          "base_uri": "https://localhost:8080/"
        },
        "id": "vTBOidI7RUnU",
        "outputId": "8bfeeed4-8f6a-472b-ba94-a46a1c2b2f30"
      },
      "source": [
        "from numpy import linalg\n",
        "\n",
        "matrix = np.ones(7)\n",
        "print(matrix)\n",
        "\n",
        "print(\"Rank of matrix: \",linalg.matrix_rank(matrix))"
      ],
      "execution_count": null,
      "outputs": [
        {
          "output_type": "stream",
          "text": [
            "[1. 1. 1. 1. 1. 1. 1.]\n",
            "Rank of matrix:  1\n"
          ],
          "name": "stdout"
        }
      ]
    },
    {
      "cell_type": "code",
      "metadata": {
        "colab": {
          "base_uri": "https://localhost:8080/"
        },
        "id": "3fP2RXq7Rcny",
        "outputId": "a7585dc1-911e-4539-8176-555810a27d7e"
      },
      "source": [
        "coeff_matrix = np.array([\n",
        "                         [9, -8],\n",
        "                         [6, 7]\n",
        "])\n",
        "\n",
        "const_matrix = np.array([1, -6])\n",
        "\n",
        "linalg.lstsq(coeff_matrix, const_matrix)"
      ],
      "execution_count": null,
      "outputs": [
        {
          "output_type": "stream",
          "text": [
            "/usr/local/lib/python3.7/dist-packages/ipykernel_launcher.py:8: FutureWarning: `rcond` parameter will change to the default of machine precision times ``max(M, N)`` where M and N are the input matrix dimensions.\n",
            "To use the future default and silence this warning we advise to pass `rcond=None`, to keep using the old, explicitly pass `rcond=-1`.\n",
            "  \n"
          ],
          "name": "stderr"
        },
        {
          "output_type": "execute_result",
          "data": {
            "text/plain": [
              "(array([-0.36936937, -0.54054054]),\n",
              " array([], dtype=float64),\n",
              " 2,\n",
              " array([12.04435938,  9.21593225]))"
            ]
          },
          "metadata": {
            "tags": []
          },
          "execution_count": 7
        }
      ]
    },
    {
      "cell_type": "code",
      "metadata": {
        "colab": {
          "base_uri": "https://localhost:8080/"
        },
        "id": "aBUteXG4RiDC",
        "outputId": "c17f0fc5-3a79-4804-85da-5f28d622558d"
      },
      "source": [
        "coeff_matrix = np.array([\n",
        "                         [55, -6],\n",
        "                         [41, 29]\n",
        "])\n",
        "\n",
        "const_matrix = np.array([1, -6])\n",
        "\n",
        "solution = linalg.solve(coeff_matrix, const_matrix)\n",
        "\n",
        "print(solution)"
      ],
      "execution_count": null,
      "outputs": [
        {
          "output_type": "stream",
          "text": [
            "[-0.00380228 -0.20152091]\n"
          ],
          "name": "stdout"
        }
      ]
    },
    {
      "cell_type": "code",
      "metadata": {
        "colab": {
          "base_uri": "https://localhost:8080/"
        },
        "id": "jy0ttTCHRnWR",
        "outputId": "9539b9ae-3962-4f49-c4a8-c843db3de516"
      },
      "source": [
        "matrix = np.random.randint(1,100,24).reshape(3,8)\n",
        "\n",
        "print(\"Matrix:\")\n",
        "print(matrix)\n",
        "print(\"\\n\\n\")\n",
        "\n",
        "print(\"Transpose of Matrix:\")\n",
        "print(matrix.transpose())"
      ],
      "execution_count": null,
      "outputs": [
        {
          "output_type": "stream",
          "text": [
            "Matrix:\n",
            "[[46 94 95 98 63 33 57 61]\n",
            " [27  8 64 53 19 29 49 42]\n",
            " [83 17 72  6 17 70 44 80]]\n",
            "\n",
            "\n",
            "\n",
            "Transpose of Matrix:\n",
            "[[46 27 83]\n",
            " [94  8 17]\n",
            " [95 64 72]\n",
            " [98 53  6]\n",
            " [63 19 17]\n",
            " [33 29 70]\n",
            " [57 49 44]\n",
            " [61 42 80]]\n"
          ],
          "name": "stdout"
        }
      ]
    },
    {
      "cell_type": "code",
      "metadata": {
        "colab": {
          "base_uri": "https://localhost:8080/"
        },
        "id": "ZZjyMwnIRrvp",
        "outputId": "5a6ad4c4-b2ab-439e-e39b-08969d387122"
      },
      "source": [
        "matrix = np.random.randint(1,30,24).reshape(6,4)\n",
        "print(matrix)\n",
        "\n",
        "print(\"\\n\\nsorted:\")\n",
        "print(np.sort(matrix, axis=None))\n",
        "\n",
        "print(\"\\n\\nsorted row wise:\")\n",
        "print(np.sort(matrix, axis=0))\n",
        "\n",
        "print(\"\\n\\nsorted column wise:\")\n",
        "print(np.sort(matrix, axis=1))"
      ],
      "execution_count": null,
      "outputs": [
        {
          "output_type": "stream",
          "text": [
            "[[14 24 15 20]\n",
            " [28 26 24 22]\n",
            " [14 18 11 19]\n",
            " [10 26 21 12]\n",
            " [ 5  9 21  9]\n",
            " [24 20  2  9]]\n",
            "\n",
            "\n",
            "sorted:\n",
            "[ 2  5  9  9  9 10 11 12 14 14 15 18 19 20 20 21 21 22 24 24 24 26 26 28]\n",
            "\n",
            "\n",
            "sorted row wise:\n",
            "[[ 5  9  2  9]\n",
            " [10 18 11  9]\n",
            " [14 20 15 12]\n",
            " [14 24 21 19]\n",
            " [24 26 21 20]\n",
            " [28 26 24 22]]\n",
            "\n",
            "\n",
            "sorted column wise:\n",
            "[[14 15 20 24]\n",
            " [22 24 26 28]\n",
            " [11 14 18 19]\n",
            " [10 12 21 26]\n",
            " [ 5  9  9 21]\n",
            " [ 2  9 20 24]]\n"
          ],
          "name": "stdout"
        }
      ]
    },
    {
      "cell_type": "code",
      "metadata": {
        "colab": {
          "base_uri": "https://localhost:8080/"
        },
        "id": "C09LxAsrRx0a",
        "outputId": "60829c7b-85ba-4d5f-bbb5-b315da715970"
      },
      "source": [
        "a = np.array([\n",
        "              [10,20],\n",
        "              [30,40]\n",
        "])\n",
        "\n",
        "print(np.tile(a,3))\n",
        "print(\"\\n\\n\")\n",
        "print(np.tile(a,(3,3)))\n",
        "a = np.array([\n",
        "              [40],\n",
        "              [50],\n",
        "              [90]\n",
        "])\n",
        "\n",
        "print(np.squeeze(a))"
      ],
      "execution_count": null,
      "outputs": [
        {
          "output_type": "stream",
          "text": [
            "[[10 20 10 20 10 20]\n",
            " [30 40 30 40 30 40]]\n",
            "\n",
            "\n",
            "\n",
            "[[10 20 10 20 10 20]\n",
            " [30 40 30 40 30 40]\n",
            " [10 20 10 20 10 20]\n",
            " [30 40 30 40 30 40]\n",
            " [10 20 10 20 10 20]\n",
            " [30 40 30 40 30 40]]\n",
            "[40 50 90]\n"
          ],
          "name": "stdout"
        }
      ]
    },
    {
      "cell_type": "code",
      "metadata": {
        "id": "nww0SLrNR2sy",
        "colab": {
          "base_uri": "https://localhost:8080/"
        },
        "outputId": "57388bf5-fa4b-4d76-c55f-511f37681e6c"
      },
      "source": [
        "from scipy import integrate\n",
        "def integrand(x, a, b):\n",
        "  return a*x**3 + b*x**2\n",
        "\n",
        "result = integrate.quad(integrand, 0, 2, args=(3,9))\n",
        "\n",
        "print(result)"
      ],
      "execution_count": null,
      "outputs": [
        {
          "output_type": "stream",
          "text": [
            "(36.0, 3.9968028886505635e-13)\n"
          ],
          "name": "stdout"
        }
      ]
    },
    {
      "cell_type": "markdown",
      "metadata": {
        "id": "ZoGjw5PhP2kw"
      },
      "source": [
        "# Exercise 8"
      ]
    },
    {
      "cell_type": "markdown",
      "metadata": {
        "id": "NPcedgE5RMqb"
      },
      "source": [
        "A:Program using pandas"
      ]
    },
    {
      "cell_type": "code",
      "metadata": {
        "colab": {
          "base_uri": "https://localhost:8080/"
        },
        "id": "NY3wEbeHRNc2",
        "outputId": "432f250d-9be5-4114-c470-81e1179c01a4"
      },
      "source": [
        "dict = {\"country\": [\"Albania\", \"Russia\", \"Sri Lanka\", \"South Korea\", \"Germany\"],\n",
        "       \"capital\": [\"Tirana\", \"Moscow\", \"Columbo\", \"Seoul\", \"Bonn\"],\n",
        "       \"area\": [8.345, 16.78, 2.2208, 9.789, 5.221],\n",
        "       \"population\": [200.4, 143.5, 1252, 1357, 52.98] }\n",
        "\n",
        "import pandas as pd\n",
        "data = pd.DataFrame(dict)\n",
        "print(data)"
      ],
      "execution_count": null,
      "outputs": [
        {
          "output_type": "stream",
          "text": [
            "       country  capital     area  population\n",
            "0      Albania   Tirana   8.3450      200.40\n",
            "1       Russia   Moscow  16.7800      143.50\n",
            "2    Sri Lanka  Columbo   2.2208     1252.00\n",
            "3  South Korea    Seoul   9.7890     1357.00\n",
            "4      Germany     Bonn   5.2210       52.98\n"
          ],
          "name": "stdout"
        }
      ]
    },
    {
      "cell_type": "markdown",
      "metadata": {
        "id": "9Aama09JRA-o"
      },
      "source": [
        "B:Program using matplotlib-Use 5 plotting techniques"
      ]
    },
    {
      "cell_type": "code",
      "metadata": {
        "id": "BIvBDMWMjNLr"
      },
      "source": [
        "#b\n",
        "import matplotlib.pyplot as plt"
      ],
      "execution_count": null,
      "outputs": []
    },
    {
      "cell_type": "code",
      "metadata": {
        "colab": {
          "base_uri": "https://localhost:8080/",
          "height": 279
        },
        "id": "8aNOueYxjkPz",
        "outputId": "8c991a5b-90a4-4cd0-cfdc-1211e0c3e0b6"
      },
      "source": [
        "x= [1,2.5,3.5,4,5]\n",
        "plt.plot(x)\n",
        "plt.xlabel('XYZ')\n",
        "plt.ylabel('NUMBERS')\n",
        "plt.show()"
      ],
      "execution_count": null,
      "outputs": [
        {
          "output_type": "display_data",
          "data": {
            "image/png": "[encoded data removed]",
            "text/plain": [
              "<Figure size 432x288 with 1 Axes>"
            ]
          },
          "metadata": {
            "tags": [],
            "needs_background": "light"
          }
        }
      ]
    },
    {
      "cell_type": "code",
      "metadata": {
        "colab": {
          "base_uri": "https://localhost:8080/",
          "height": 295
        },
        "id": "XYT8plKc8V-E",
        "outputId": "d6b85a96-b0a3-4446-8b6a-7be613684c53"
      },
      "source": [
        "x = [1,1.5,2,3.5,3.6]\n",
        "y = [5,5.5,7.5,8.5,9]\n",
        "plt.scatter(x,y, label='XYZ',color='b')\n",
        "\n",
        "plt.xlabel('X LABEL')\n",
        "plt.ylabel('Y LABEL')\n",
        "plt.title('Scatter Plot')\n",
        "plt.legend()\n",
        "plt.show()"
      ],
      "execution_count": null,
      "outputs": [
        {
          "output_type": "display_data",
          "data": {
            "image/png": "[encoded data removed]",
            "text/plain": [
              "<Figure size 432x288 with 1 Axes>"
            ]
          },
          "metadata": {
            "tags": [],
            "needs_background": "light"
          }
        }
      ]
    },
    {
      "cell_type": "code",
      "metadata": {
        "colab": {
          "base_uri": "https://localhost:8080/",
          "height": 257
        },
        "id": "yRFFZtqFirYB",
        "outputId": "86cf18b4-1619-40ec-e9f7-36ff3e7f4651"
      },
      "source": [
        "slices = [45,2,11,5]\n",
        "activities = ['eat','sleep','read','walk']\n",
        "cols = ['y','b','m','c']\n",
        "\n",
        "plt.pie(\n",
        "    slices,\n",
        "    labels=activities,\n",
        "    colors=cols,\n",
        "    startangle=180,\n",
        "    explode=(0.1, 0.2, 0, 0),\n",
        "    autopct=\"%2.1f%%\"\n",
        ")\n",
        "plt.show()"
      ],
      "execution_count": null,
      "outputs": [
        {
          "output_type": "display_data",
          "data": {
            "image/png": "[encoded data removed]",
            "text/plain": [
              "<Figure size 432x288 with 1 Axes>"
            ]
          },
          "metadata": {
            "tags": []
          }
        }
      ]
    },
    {
      "cell_type": "code",
      "metadata": {
        "colab": {
          "base_uri": "https://localhost:8080/",
          "height": 299
        },
        "id": "MWWTs-kelFfk",
        "outputId": "1c62289f-e378-4edc-e454-2e05eab825be"
      },
      "source": [
        "from matplotlib import style\n",
        "style.use(\"ggplot\")\n",
        "x1 = [5, 10,15]\n",
        "y1 = [1,5,6]\n",
        "x2 = [6,9,10]\n",
        "y2 = [1,2,3]\n",
        "plt.plot(x1, y1, 'y', label=\"X\", linewidth=3)\n",
        "plt.plot(x2, y2, 'm', label=\"Y\", linewidth=5)\n",
        "plt.xlabel(\"X axis\")\n",
        "plt.ylabel(\"Y axis\")\n",
        "plt.title(\"Sample graph\")\n",
        "plt.legend()\n",
        "plt.show()"
      ],
      "execution_count": null,
      "outputs": [
        {
          "output_type": "display_data",
          "data": {
            "image/png": "[encoded data removed]",
            "text/plain": [
              "<Figure size 432x288 with 1 Axes>"
            ]
          },
          "metadata": {
            "tags": []
          }
        }
      ]
    },
    {
      "cell_type": "code",
      "metadata": {
        "colab": {
          "base_uri": "https://localhost:8080/",
          "height": 299
        },
        "id": "_KCfFt3PlucM",
        "outputId": "fc95caee-d8fa-4719-92d1-d7e36fbca796"
      },
      "source": [
        "x = [1,1.5,2,3.5,3.6]\n",
        "y = [5,5.5,7.5,8.5,9]\n",
        "plt.scatter(x,y, label='XYZ',color='b')\n",
        "\n",
        "plt.xlabel('X LABEL')\n",
        "plt.ylabel('Y LABEL')\n",
        "plt.title('Scatter Plot')\n",
        "plt.legend()\n",
        "plt.show()"
      ],
      "execution_count": null,
      "outputs": [
        {
          "output_type": "display_data",
          "data": {
            "image/png": "[encoded data removed]",
            "text/plain": [
              "<Figure size 432x288 with 1 Axes>"
            ]
          },
          "metadata": {
            "tags": []
          }
        }
      ]
    },
    {
      "cell_type": "markdown",
      "metadata": {
        "id": "HIvWysPZP88l"
      },
      "source": [
        "# Exercise 9"
      ]
    },
    {
      "cell_type": "markdown",
      "metadata": {
        "id": "pvBtLcJQQ1Ui"
      },
      "source": [
        "A:Graph using Matplotlib"
      ]
    },
    {
      "cell_type": "code",
      "metadata": {
        "colab": {
          "base_uri": "https://localhost:8080/",
          "height": 299
        },
        "id": "GzHm_jz3l2jY",
        "outputId": "f014036d-9d27-46f0-cc78-9c8cfeef7a3a"
      },
      "source": [
        "# bar graph for categorical values\n",
        "x1 = [1,3.22,5,7,9]\n",
        "y1 = [5,2.7,3.5,8,2]\n",
        "x2 = [2.1,4,6,8,10]\n",
        "y2 = [8,6.6,2,5,7.5]\n",
        "plt.bar(x1, y1, label=\"xyz\",color='y')\n",
        "plt.bar(x2, y2, label=\"abc\", color=\"b\")\n",
        "plt.legend()\n",
        "plt.xlabel(\"X axis\")\n",
        "plt.ylabel(\"Y axis\")\n",
        "plt.title(\"Bar graph\")\n",
        "plt.show()"
      ],
      "execution_count": null,
      "outputs": [
        {
          "output_type": "display_data",
          "data": {
            "image/png": "[encoded data removed]",
            "text/plain": [
              "<Figure size 432x288 with 1 Axes>"
            ]
          },
          "metadata": {
            "tags": []
          }
        }
      ]
    },
    {
      "cell_type": "markdown",
      "metadata": {
        "id": "W893KvgrQBJY"
      },
      "source": [
        "# Exercise 10"
      ]
    },
    {
      "cell_type": "markdown",
      "metadata": {
        "id": "8i49ND5FRX_9"
      },
      "source": [
        "A:Vector using matplotlib"
      ]
    },
    {
      "cell_type": "code",
      "metadata": {
        "colab": {
          "base_uri": "https://localhost:8080/",
          "height": 281
        },
        "id": "2ruGBRkcRT-l",
        "outputId": "43cdcdee-49bd-421d-ef48-0cd4b1502755"
      },
      "source": [
        "X = [0]\n",
        "Y = [0]\n",
        "  \n",
        "# Directional vectors\n",
        "U = [2]  \n",
        "V = [1]  \n",
        "  \n",
        "plt.quiver(X, Y, U, V, color='b', units='xy', scale=1)\n",
        "plt.title('Single Vector')\n",
        "  \n",
        "plt.xlim(-2, 5)\n",
        "plt.ylim(-2, 2.5)\n",
        "  \n",
        "plt.grid()\n",
        "plt.show()"
      ],
      "execution_count": null,
      "outputs": [
        {
          "output_type": "display_data",
          "data": {
            "image/png": "[encoded data removed]",
            "text/plain": [
              "<Figure size 432x288 with 1 Axes>"
            ]
          },
          "metadata": {
            "tags": [],
            "needs_background": "light"
          }
        }
      ]
    }
  ]
}